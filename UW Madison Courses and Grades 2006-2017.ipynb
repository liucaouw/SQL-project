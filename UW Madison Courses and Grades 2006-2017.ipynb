{
 "cells": [
  {
   "cell_type": "markdown",
   "metadata": {},
   "source": [
    "## UW Madison Courses and Grades 2006-2017"
   ]
  },
  {
   "cell_type": "code",
   "execution_count": 1,
   "metadata": {},
   "outputs": [],
   "source": [
    "import pandas\n",
    "import csv, sqlite3\n",
    "#create database \"uw-madison-courses\"\n",
    "conn= sqlite3.connect(\"uw-madison-courses.db\")"
   ]
  },
  {
   "cell_type": "code",
   "execution_count": 2,
   "metadata": {},
   "outputs": [],
   "source": [
    "#create table \"courses\"\n",
    "conn.execute(\"\"\"\n",
    "CREATE TABLE courses\n",
    "(\n",
    "    uuid TEXT NOT NULL,\n",
    "    name TEXT,\n",
    "    number INTEGER,\n",
    "    PRIMARY KEY (uuid)\n",
    ");\"\"\")  \n",
    "df = pandas.read_csv('courses.csv')\n",
    "df.to_sql('courses', conn, if_exists='append', index=False)"
   ]
  },
  {
   "cell_type": "code",
   "execution_count": 3,
   "metadata": {},
   "outputs": [],
   "source": [
    "#create table \"teachings\"\n",
    "conn.execute(\"\"\"\n",
    "CREATE TABLE teachings\n",
    "(\n",
    "    instructor_id TEXT,\n",
    "    section_uuid TEXT NOT NULL\n",
    "       REFERENCES instructors(id),\n",
    "    PRIMARY KEY (section_uuid)\n",
    ");\"\"\")  \n",
    "df = pandas.read_csv('teachings.csv')\n",
    "df.to_sql('teachings', conn, if_exists='append', index=False)"
   ]
  },
  {
   "cell_type": "code",
   "execution_count": 4,
   "metadata": {},
   "outputs": [],
   "source": [
    "#create table \"subjects\"\n",
    "conn.execute(\"\"\"\n",
    "CREATE TABLE subjects\n",
    "(\n",
    "    code TEXT NOT NULL,\n",
    "    name TEXT,\n",
    "    abbreviation TEXT,\n",
    "    PRIMARY KEY (code)\n",
    ");\"\"\")  \n",
    "df = pandas.read_csv('subjects.csv')\n",
    "df.to_sql('subjects', conn, if_exists='append', index=False)"
   ]
  },
  {
   "cell_type": "code",
   "execution_count": 5,
   "metadata": {},
   "outputs": [],
   "source": [
    "#create table \"schedules\"\n",
    "conn.execute(\"\"\"\n",
    "CREATE TABLE schedules\n",
    "(\n",
    "    uuid TEXT NOT NULL,\n",
    "    start_time INTEGER,\n",
    "    end_time INTEGER,\n",
    "    mon INTEGER,\n",
    "    tues INTEGER,\n",
    "    wed INTEGER,\n",
    "    thurs INTEGER,\n",
    "    fri INTEGER,\n",
    "    sat INTEGER,\n",
    "    sun INTEGER,\n",
    "    PRIMARY KEY (uuid)\n",
    ");\"\"\")  \n",
    "df = pandas.read_csv('schedules.csv')\n",
    "df.to_sql('schedules', conn, if_exists='append', index=False)"
   ]
  },
  {
   "cell_type": "code",
   "execution_count": 6,
   "metadata": {},
   "outputs": [],
   "source": [
    "#create table \"instructors\"\n",
    "conn.execute(\"\"\"\n",
    "CREATE TABLE instructors\n",
    "(\n",
    "    id INTEGER NOT NULL,\n",
    "    name TEXT,\n",
    "    PRIMARY KEY (id)\n",
    ");\"\"\")  \n",
    "df = pandas.read_csv('instructors.csv')\n",
    "df.to_sql('instructors', conn, if_exists='append', index=False)"
   ]
  },
  {
   "cell_type": "code",
   "execution_count": 7,
   "metadata": {},
   "outputs": [],
   "source": [
    "#create table \"rooms\"\n",
    "conn.execute(\"\"\"\n",
    "CREATE TABLE rooms\n",
    "(\n",
    "    uuid TEXT NOT NULL,\n",
    "    facility_code INTEGER,\n",
    "    room_code INTEGER,\n",
    "    PRIMARY KEY (uuid)\n",
    ");\"\"\")             \n",
    "df = pandas.read_csv('rooms.csv')\n",
    "df.to_sql('rooms', conn, if_exists='append', index=False)"
   ]
  },
  {
   "cell_type": "code",
   "execution_count": 8,
   "metadata": {},
   "outputs": [],
   "source": [
    "#create table \"subject_memberships\"\n",
    "conn.execute(\"\"\"\n",
    "CREATE TABLE subject_memberships\n",
    "(\n",
    "    subject_code INTEGER NOT NULL\n",
    "       REFERENCES subjects(code),\n",
    "    course_offering_uuid TEXT NOT NULL\n",
    "       REFERENCES course_offerings(uuid),\n",
    "    PRIMARY KEY (subject_code,course_offering_uuid)\n",
    ");\"\"\")                    \n",
    "df = pandas.read_csv('subject_memberships.csv')\n",
    "df.to_sql('subject_memberships', conn, if_exists='append', index=False)"
   ]
  },
  {
   "cell_type": "code",
   "execution_count": 9,
   "metadata": {},
   "outputs": [],
   "source": [
    "#create table \"grade_distributions\"\n",
    "conn.execute(\"\"\"\n",
    "CREATE TABLE grade_distributions\n",
    "(\n",
    "    course_offering_uuid TEXT NOT NULL\n",
    "       REFERENCES course_offerings(uuid),\n",
    "    section_number INTEGER NOT NULL\n",
    "       REFERENCES sections(number),\n",
    "    a_count INTEGER,\n",
    "    ab_count INTEGER,\n",
    "    b_count INTEGER,\n",
    "    bc_count INTEGER,\n",
    "    c_count INTEGER,\n",
    "    d_count INTEGER,\n",
    "    f_count INTEGER,\n",
    "    s_count INTEGER,\n",
    "    u_count INTEGER,\n",
    "    cr_count INTEGER,\n",
    "    n_count INTEGER,\n",
    "    p_count INTEGER,\n",
    "    i_count INTEGER,\n",
    "    nw_count INTEGER,\n",
    "    nr_count INTEGER,\n",
    "    other_count INTEGER,\n",
    "    PRIMARY KEY (course_offering_uuid,section_number)\n",
    ");\"\"\")                    \n",
    "df = pandas.read_csv('grade_distributions.csv')\n",
    "df.to_sql('grade_distributions', conn, if_exists='append', index=False)"
   ]
  },
  {
   "cell_type": "code",
   "execution_count": 10,
   "metadata": {},
   "outputs": [],
   "source": [
    "#create table \"sections\"\n",
    "conn.execute(\"\"\"\n",
    "CREATE TABLE sections\n",
    "(\n",
    "    uuid TEXT,\n",
    "    course_offering_uuid TEXT\n",
    "       REFERENCES course_offerings(uuid),\n",
    "    section_type TEXT,\n",
    "    number TEXT,\n",
    "    room_uuid TEXT\n",
    "       REFERENCES rooms(uuid),\n",
    "    schedule_uuid TEXT\n",
    "       REFERENCES schedules(uuid),\n",
    "    PRIMARY KEY (uuid)\n",
    ");\"\"\")  \n",
    "df = pandas.read_csv('sections.csv')\n",
    "df.to_sql('sections', conn, if_exists='append', index=False)"
   ]
  },
  {
   "cell_type": "code",
   "execution_count": 11,
   "metadata": {},
   "outputs": [],
   "source": [
    "#create table \"course_offerings\"\n",
    "conn.execute(\"\"\"\n",
    "CREATE TABLE course_offerings\n",
    "(\n",
    "    uuid TEXT NOT NULL,\n",
    "    course_uuid TEXT\n",
    "       REFERENCES courses(uuid),\n",
    "    term_code INTEGER,\n",
    "    name TEXT\n",
    "       REFERENCES courses(name),\n",
    "    PRIMARY KEY (uuid)\n",
    ");\"\"\") \n",
    "df = pandas.read_csv('course_offerings.csv')\n",
    "df.to_sql('course_offerings', conn, if_exists='append', index=False)"
   ]
  }
 ],
 "metadata": {
  "kernelspec": {
   "display_name": "Python 3",
   "language": "python",
   "name": "python3"
  },
  "language_info": {
   "codemirror_mode": {
    "name": "ipython",
    "version": 3
   },
   "file_extension": ".py",
   "mimetype": "text/x-python",
   "name": "python",
   "nbconvert_exporter": "python",
   "pygments_lexer": "ipython3",
   "version": "3.6.4"
  }
 },
 "nbformat": 4,
 "nbformat_minor": 2
}
